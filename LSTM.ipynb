{
  "nbformat": 4,
  "nbformat_minor": 0,
  "metadata": {
    "colab": {
      "name": "LSTM.ipynb",
      "provenance": [],
      "collapsed_sections": [],
      "include_colab_link": true
    },
    "kernelspec": {
      "name": "python3",
      "display_name": "Python 3"
    },
    "accelerator": "GPU"
  },
  "cells": [
    {
      "cell_type": "markdown",
      "metadata": {
        "id": "view-in-github",
        "colab_type": "text"
      },
      "source": [
        "<a href=\"https://colab.research.google.com/github/nurriol2/forecasting/blob/ft-lstm/LSTM.ipynb\" target=\"_parent\"><img src=\"https://colab.research.google.com/assets/colab-badge.svg\" alt=\"Open In Colab\"/></a>"
      ]
    },
    {
      "cell_type": "code",
      "metadata": {
        "id": "2Nytst75mvg-"
      },
      "source": [
        "import torch\n",
        "import torch.nn as nn \n",
        "\n",
        "import seaborn as sns\n",
        "import numpy as np\n",
        "import pandas as pd\n",
        "import matplotlib.pyplot as plt\n",
        "%matplotlib inline\n",
        "\n",
        "plt.rcParams[\"figure.figsize\"]=(16, 12)"
      ],
      "execution_count": 46,
      "outputs": []
    },
    {
      "cell_type": "code",
      "metadata": {
        "id": "hl5pS1M5nTYJ",
        "outputId": "10172e8f-da39-479d-a674-e4154cadaa58",
        "colab": {
          "base_uri": "https://localhost:8080/"
        }
      },
      "source": [
        "#make use of GPU\n",
        "if torch.cuda.is_available():\n",
        "    device = torch.device(\"cuda\")\n",
        "    print(\"GPU available\")\n",
        "else:\n",
        "    device = torch.device(\"cpu\")\n",
        "    print(\"No GPU available, training on CPU\")\n",
        "device"
      ],
      "execution_count": 47,
      "outputs": [
        {
          "output_type": "stream",
          "text": [
            "GPU available\n"
          ],
          "name": "stdout"
        },
        {
          "output_type": "execute_result",
          "data": {
            "text/plain": [
              "device(type='cuda')"
            ]
          },
          "metadata": {
            "tags": []
          },
          "execution_count": 47
        }
      ]
    },
    {
      "cell_type": "code",
      "metadata": {
        "id": "L6KCb71wmwjU",
        "outputId": "04f7b086-ebb8-4576-9b90-e5e6f29f094c",
        "colab": {
          "base_uri": "https://localhost:8080/",
          "height": 204
        }
      },
      "source": [
        "#read appended bond data from github repo\n",
        "bond_data = pd.read_csv(\"https://raw.githubusercontent.com/nurriol2/forecasting/master/datasets/old_school_bond_appended.csv\", \n",
        "                        index_col=\"Unnamed: 0\")\n",
        "bond_data.head()"
      ],
      "execution_count": 48,
      "outputs": [
        {
          "output_type": "execute_result",
          "data": {
            "text/html": [
              "<div>\n",
              "<style scoped>\n",
              "    .dataframe tbody tr th:only-of-type {\n",
              "        vertical-align: middle;\n",
              "    }\n",
              "\n",
              "    .dataframe tbody tr th {\n",
              "        vertical-align: top;\n",
              "    }\n",
              "\n",
              "    .dataframe thead th {\n",
              "        text-align: right;\n",
              "    }\n",
              "</style>\n",
              "<table border=\"1\" class=\"dataframe\">\n",
              "  <thead>\n",
              "    <tr style=\"text-align: right;\">\n",
              "      <th></th>\n",
              "      <th>Timestamps_close</th>\n",
              "      <th>Close</th>\n",
              "      <th>Timestamps_average</th>\n",
              "      <th>Average</th>\n",
              "    </tr>\n",
              "  </thead>\n",
              "  <tbody>\n",
              "    <tr>\n",
              "      <th>0</th>\n",
              "      <td>2020/04/08</td>\n",
              "      <td>4134618</td>\n",
              "      <td>2020/04/08</td>\n",
              "      <td>4522980</td>\n",
              "    </tr>\n",
              "    <tr>\n",
              "      <th>1</th>\n",
              "      <td>2020/04/09</td>\n",
              "      <td>4009639</td>\n",
              "      <td>2020/04/09</td>\n",
              "      <td>4501601</td>\n",
              "    </tr>\n",
              "    <tr>\n",
              "      <th>2</th>\n",
              "      <td>2020/04/10</td>\n",
              "      <td>3903868</td>\n",
              "      <td>2020/04/10</td>\n",
              "      <td>4473252</td>\n",
              "    </tr>\n",
              "    <tr>\n",
              "      <th>3</th>\n",
              "      <td>2020/04/11</td>\n",
              "      <td>3853462</td>\n",
              "      <td>2020/04/11</td>\n",
              "      <td>4442300</td>\n",
              "    </tr>\n",
              "    <tr>\n",
              "      <th>4</th>\n",
              "      <td>2020/04/12</td>\n",
              "      <td>3941327</td>\n",
              "      <td>2020/04/12</td>\n",
              "      <td>4415261</td>\n",
              "    </tr>\n",
              "  </tbody>\n",
              "</table>\n",
              "</div>"
            ],
            "text/plain": [
              "  Timestamps_close    Close Timestamps_average  Average\n",
              "0       2020/04/08  4134618         2020/04/08  4522980\n",
              "1       2020/04/09  4009639         2020/04/09  4501601\n",
              "2       2020/04/10  3903868         2020/04/10  4473252\n",
              "3       2020/04/11  3853462         2020/04/11  4442300\n",
              "4       2020/04/12  3941327         2020/04/12  4415261"
            ]
          },
          "metadata": {
            "tags": []
          },
          "execution_count": 48
        }
      ]
    },
    {
      "cell_type": "code",
      "metadata": {
        "id": "uLaMwBKOnm4h",
        "outputId": "230542ea-95fb-4886-a6d2-6244b2814e1d",
        "colab": {
          "base_uri": "https://localhost:8080/"
        }
      },
      "source": [
        "bond_data.shape"
      ],
      "execution_count": 49,
      "outputs": [
        {
          "output_type": "execute_result",
          "data": {
            "text/plain": [
              "(200, 4)"
            ]
          },
          "metadata": {
            "tags": []
          },
          "execution_count": 49
        }
      ]
    },
    {
      "cell_type": "markdown",
      "metadata": {
        "id": "uJEKjbXVpLGN"
      },
      "source": [
        "*Number of samples per set*  \n",
        "170 - train    \n",
        "20 - valid  \n",
        "10 - test  \n",
        "\n",
        "**So the task will be to predict bond price for the next 10 days given 170 training samples and 20 validation samples**"
      ]
    },
    {
      "cell_type": "code",
      "metadata": {
        "id": "vHEJtYRppjEA"
      },
      "source": [
        "all_data = bond_data[\"Close\"].values.astype(float)"
      ],
      "execution_count": 50,
      "outputs": []
    },
    {
      "cell_type": "code",
      "metadata": {
        "id": "Tdyp_IqBtE2o"
      },
      "source": [
        "training_data = all_data[:170]\n",
        "validation_data = all_data[171:191]\n",
        "test_data = all_data[-10:]"
      ],
      "execution_count": 51,
      "outputs": []
    },
    {
      "cell_type": "code",
      "metadata": {
        "id": "EKazao8Iup8B"
      },
      "source": [
        "#normalize the data sets\n",
        "from sklearn.preprocessing import MinMaxScaler\n",
        "\n",
        "scaler = MinMaxScaler(feature_range=(-1, 1))\n",
        "training_data = scaler.fit_transform(training_data.reshape(-1, 1))\n",
        "validation_data = scaler.fit_transform(validation_data.reshape(-1, 1))"
      ],
      "execution_count": 52,
      "outputs": []
    },
    {
      "cell_type": "code",
      "metadata": {
        "id": "zVPxcr3pu_e2",
        "outputId": "bcf5a753-a5c3-466c-e43a-cbc94d878c8e",
        "colab": {
          "base_uri": "https://localhost:8080/"
        }
      },
      "source": [
        "training_data[:5], training_data[-5:]"
      ],
      "execution_count": 53,
      "outputs": [
        {
          "output_type": "execute_result",
          "data": {
            "text/plain": [
              "(array([[-0.21257071],\n",
              "        [-0.34051259],\n",
              "        [-0.4487911 ],\n",
              "        [-0.50039208],\n",
              "        [-0.41044406]]), array([[0.81887142],\n",
              "        [0.81664793],\n",
              "        [0.88317558],\n",
              "        [0.93785894],\n",
              "        [0.92705166]]))"
            ]
          },
          "metadata": {
            "tags": []
          },
          "execution_count": 53
        }
      ]
    },
    {
      "cell_type": "code",
      "metadata": {
        "id": "Vqa321xFvoLG"
      },
      "source": [
        "#sequence length\n",
        "train_window = 10\n",
        "\n",
        "def create_sequences(input_data, tw):\n",
        "    #tw day sequence formed from interval slices of input_data\n",
        "    xs = []\n",
        "    ys = []\n",
        "    for i in range(len(input_data)-tw):\n",
        "        #tw sequence\n",
        "        x = input_data[i:i+tw]\n",
        "        xs.append(x)\n",
        "        #corresponding label (predicted price)\n",
        "        label = input_data[i+tw]\n",
        "        ys.append(label)\n",
        "\n",
        "    return np.array(xs), np.array(ys)\n",
        "\n",
        "X_train, y_train = create_sequences(training_data, train_window)\n",
        "X_valid, y_valid = create_sequences(validation_data, train_window)"
      ],
      "execution_count": 54,
      "outputs": []
    },
    {
      "cell_type": "code",
      "metadata": {
        "id": "TbysseIdwjWw",
        "outputId": "e5a6c227-6540-4a66-f98a-573f14f78932",
        "colab": {
          "base_uri": "https://localhost:8080/"
        }
      },
      "source": [
        "len(X_train)"
      ],
      "execution_count": 55,
      "outputs": [
        {
          "output_type": "execute_result",
          "data": {
            "text/plain": [
              "160"
            ]
          },
          "metadata": {
            "tags": []
          },
          "execution_count": 55
        }
      ]
    },
    {
      "cell_type": "code",
      "metadata": {
        "id": "xI8qb9vQ3LCf"
      },
      "source": [
        "#convert X and y to tensors\n",
        "X_train = torch.from_numpy(X_train).float()\n",
        "y_train = torch.from_numpy(y_train).float()\n",
        "X_valid = torch.from_numpy(X_valid).float()\n",
        "y_valid = torch.from_numpy(y_valid).float()"
      ],
      "execution_count": 56,
      "outputs": []
    },
    {
      "cell_type": "code",
      "metadata": {
        "id": "9rMvu0UIpxKB",
        "outputId": "fc74dce2-58a0-4747-fbd0-51657c0189ad",
        "colab": {
          "base_uri": "https://localhost:8080/"
        }
      },
      "source": [
        "#num sequenecs, len sequences, 1\n",
        "X_train.shape"
      ],
      "execution_count": 57,
      "outputs": [
        {
          "output_type": "execute_result",
          "data": {
            "text/plain": [
              "torch.Size([160, 10, 1])"
            ]
          },
          "metadata": {
            "tags": []
          },
          "execution_count": 57
        }
      ]
    },
    {
      "cell_type": "code",
      "metadata": {
        "id": "MdkiN2D2xXqc",
        "outputId": "61f7860c-2cfe-4353-d8df-41873de8d873",
        "colab": {
          "base_uri": "https://localhost:8080/"
        }
      },
      "source": [
        "y_train.shape"
      ],
      "execution_count": 58,
      "outputs": [
        {
          "output_type": "execute_result",
          "data": {
            "text/plain": [
              "torch.Size([160, 1])"
            ]
          },
          "metadata": {
            "tags": []
          },
          "execution_count": 58
        }
      ]
    },
    {
      "cell_type": "code",
      "metadata": {
        "id": "6dAElnovp0g-"
      },
      "source": [
        "class PricePredictor(nn.Module):\n",
        "    def __init__(self, n_features, n_hidden, seq_len, n_layers=2):\n",
        "        super(PricePredictor, self).__init__()\n",
        "\n",
        "        self.n_features = n_features\n",
        "        self.n_hidden = n_hidden\n",
        "        self.seq_len = seq_len\n",
        "        self.n_layers = n_layers\n",
        "\n",
        "        self.lstm = nn.LSTM(\n",
        "            input_size=n_features,\n",
        "            hidden_size=n_hidden,\n",
        "            num_layers=n_layers,\n",
        "            dropout=0.5\n",
        "        )\n",
        "\n",
        "        self.linear = nn.Linear(in_features=n_hidden, out_features=1)\n",
        "\n",
        "        return \n",
        "\n",
        "    def init_hidden(self):\n",
        "        return (torch.zeros(self.n_layers, self.seq_len, self.n_hidden),\n",
        "         torch.zeros(self.n_layers, self.seq_len, self.n_hidden))\n",
        "\n",
        "    def forward(self, sequences):\n",
        "        lstm_out, self.hidden = self.lstm(sequences.view(len(sequences), self.seq_len, -1), self.hidden)\n",
        "        \n",
        "        last_time_step = lstm_out.view(self.seq_len, len(sequences), self.n_hidden)[-1]\n",
        "        \n",
        "        y_pred = self.linear(last_time_step)\n",
        "        \n",
        "        return y_pred"
      ],
      "execution_count": 59,
      "outputs": []
    },
    {
      "cell_type": "code",
      "metadata": {
        "id": "dUEC8tzksR4V"
      },
      "source": [
        "def train_model(model, train_data, train_labels, test_data=None, test_labels=None):\n",
        "    \n",
        "    loss_fn = torch.nn.MSELoss(reduction=\"sum\")\n",
        "\n",
        "    optimizer = torch.optim.Adam(model.parameters(), lr=5e-3)\n",
        "\n",
        "    num_epochs = 60\n",
        "\n",
        "    train_hist = np.zeros(num_epochs)\n",
        "    test_hist = np.zeros(num_epochs)\n",
        "\n",
        "    for epoch in range(num_epochs):\n",
        "        #model.zero_grad()\n",
        "\n",
        "        model.hidden = model.init_hidden()\n",
        "\n",
        "        #why do we do this when train_data is passed?\n",
        "        y_pred = model(X_train)\n",
        "\n",
        "        loss = loss_fn(y_pred.float(), y_train)\n",
        "\n",
        "        if test_data is not None:\n",
        "            with torch.no_grad():\n",
        "                y_test_pred = model(X_valid)\n",
        "                test_loss = loss_fn(y_test_pred, y_valid)\n",
        "            test_hist[epoch] = test_loss.item()\n",
        "\n",
        "            if epoch%10==0:\n",
        "                print(f\"Epoch: {epoch} Train Loss: {loss.item()} Test Loss: {test_loss.item()}\")\n",
        "        \n",
        "        elif epoch%10==10:\n",
        "            print(f\"Epoch: {epoch} Train Loss: {loss.item()}\")\n",
        "        \n",
        "        train_hist[epoch] = loss.item()\n",
        "\n",
        "        optimizer.zero_grad()\n",
        "        loss.backward()\n",
        "        optimizer.step()\n",
        "\n",
        "    return model.eval(), train_hist, test_hist"
      ],
      "execution_count": 60,
      "outputs": []
    },
    {
      "cell_type": "code",
      "metadata": {
        "id": "cDbASBsY35EP",
        "outputId": "8b1169c2-86a1-45ab-8905-b166864ec655",
        "colab": {
          "base_uri": "https://localhost:8080/"
        }
      },
      "source": [
        "model = PricePredictor(n_features=1, n_hidden=512, seq_len=train_window, n_layers=2)\n",
        "\n",
        "model, train_hist, test_hist = train_model(model=model, \n",
        "                                           train_data=X_train,\n",
        "                                           train_labels=y_train,\n",
        "                                           test_data=X_valid,\n",
        "                                           test_labels=y_valid)"
      ],
      "execution_count": 61,
      "outputs": [
        {
          "output_type": "stream",
          "text": [
            "Epoch: 0 Train Loss: 52.935028076171875 Test Loss: 2.6211013793945312\n",
            "Epoch: 10 Train Loss: 54.775386810302734 Test Loss: 2.2850728034973145\n",
            "Epoch: 20 Train Loss: 60.389259338378906 Test Loss: 6.529139995574951\n",
            "Epoch: 30 Train Loss: 55.011444091796875 Test Loss: 5.284668922424316\n",
            "Epoch: 40 Train Loss: 51.37872314453125 Test Loss: 3.4753401279449463\n",
            "Epoch: 50 Train Loss: 51.910945892333984 Test Loss: 2.8830413818359375\n"
          ],
          "name": "stdout"
        }
      ]
    },
    {
      "cell_type": "code",
      "metadata": {
        "id": "_dUx1IeC6XpT",
        "outputId": "66ed0d7d-9c5d-40e4-d496-a0dce94af948",
        "colab": {
          "base_uri": "https://localhost:8080/",
          "height": 714
        }
      },
      "source": [
        "plt.plot(train_hist, label=\"Training Loss\")\n",
        "plt.plot(test_hist, label=\"Test Loss\")\n",
        "plt.xlabel(\"Epoch\")\n",
        "plt.ylabel(\"MSE\")\n",
        "plt.legend()\n",
        "plt.show()"
      ],
      "execution_count": 62,
      "outputs": [
        {
          "output_type": "display_data",
          "data": {
            "image/png": "[encoded data removed]",
            "text/plain": [
              "<Figure size 1152x864 with 1 Axes>"
            ]
          },
          "metadata": {
            "tags": [],
            "needs_background": "light"
          }
        }
      ]
    },
    {
      "cell_type": "code",
      "metadata": {
        "id": "oLEzj1tlBMtl"
      },
      "source": [
        "with torch.no_grad():\n",
        "    test_seq = X_valid[:1]\n",
        "    preds = []\n",
        "    for _ in range(len(X_valid)):\n",
        "        y_test_pred = model(test_seq)\n",
        "        pred = torch.flatten(y_test_pred).item()\n",
        "        preds.append(pred)\n",
        "\n",
        "        new_seq = test_seq.numpy().flatten()\n",
        "        new_seq = np.append(new_seq, [pred])\n",
        "        new_seq = new_seq[1:]\n",
        "        test_seq = torch.as_tensor(new_seq).view(1, model.seq_len, 1).float()"
      ],
      "execution_count": 63,
      "outputs": []
    },
    {
      "cell_type": "code",
      "metadata": {
        "id": "ys-dGIqPaTS-"
      },
      "source": [
        "true_price = scaler.inverse_transform(np.expand_dims(y_valid.flatten().numpy(), axis=0)).flatten()"
      ],
      "execution_count": 64,
      "outputs": []
    },
    {
      "cell_type": "code",
      "metadata": {
        "id": "79rPHXI7auTi"
      },
      "source": [
        "predicted_price = scaler.inverse_transform(np.expand_dims(preds, axis=0)).flatten()"
      ],
      "execution_count": 65,
      "outputs": []
    },
    {
      "cell_type": "code",
      "metadata": {
        "id": "vKodTDK2a43L",
        "outputId": "5edc2bea-c50a-48b3-da91-7e268021c106",
        "colab": {
          "base_uri": "https://localhost:8080/",
          "height": 711
        }
      },
      "source": [
        "plt.plot(scaler.inverse_transform(training_data).flatten()[:len(training_data)], label=\"Historical Price\")\n",
        "plt.plot(np.arange(len(training_data), len(training_data)+len(true_price)), true_price, label=\"True Price\")\n",
        "plt.plot(np.arange(len(training_data), len(training_data)+len(predicted_price)), predicted_price, label=\"Predicted Price\")\n",
        "\n",
        "plt.legend()\n",
        "plt.show()"
      ],
      "execution_count": 70,
      "outputs": [
        {
          "output_type": "display_data",
          "data": {
            "image/png": "[encoded data removed]",
            "text/plain": [
              "<Figure size 1152x864 with 1 Axes>"
            ]
          },
          "metadata": {
            "tags": [],
            "needs_background": "light"
          }
        }
      ]
    }
  ]
}