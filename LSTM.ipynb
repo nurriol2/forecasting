{
  "nbformat": 4,
  "nbformat_minor": 0,
  "metadata": {
    "colab": {
      "name": "LSTM.ipynb",
      "provenance": []
    },
    "kernelspec": {
      "name": "python3",
      "display_name": "Python 3"
    },
    "accelerator": "GPU"
  },
  "cells": [
    {
      "cell_type": "code",
      "metadata": {
        "id": "2Nytst75mvg-"
      },
      "source": [
        "import torch\n",
        "import torch.nn as nn \n",
        "\n",
        "import seaborn as sns\n",
        "import numpy as np\n",
        "import pandas as pd\n",
        "import matplotlib.pyplot as plt\n",
        "%matplotlib inline\n",
        "\n",
        "plt.rcParams[\"figure.figsize\"]=(16, 12)"
      ],
      "execution_count": 20,
      "outputs": []
    },
    {
      "cell_type": "code",
      "metadata": {
        "id": "L6KCb71wmwjU",
        "outputId": "a994b5c6-a5f8-46eb-cce5-e03a88356384",
        "colab": {
          "base_uri": "https://localhost:8080/",
          "height": 204
        }
      },
      "source": [
        "#read appended bond data from github repo\n",
        "bond_data = pd.read_csv(\"https://raw.githubusercontent.com/nurriol2/forecasting/master/datasets/old_school_bond_appended.csv\", \n",
        "                        index_col=\"Unnamed: 0\")\n",
        "bond_data.head()"
      ],
      "execution_count": 2,
      "outputs": [
        {
          "output_type": "execute_result",
          "data": {
            "text/html": [
              "<div>\n",
              "<style scoped>\n",
              "    .dataframe tbody tr th:only-of-type {\n",
              "        vertical-align: middle;\n",
              "    }\n",
              "\n",
              "    .dataframe tbody tr th {\n",
              "        vertical-align: top;\n",
              "    }\n",
              "\n",
              "    .dataframe thead th {\n",
              "        text-align: right;\n",
              "    }\n",
              "</style>\n",
              "<table border=\"1\" class=\"dataframe\">\n",
              "  <thead>\n",
              "    <tr style=\"text-align: right;\">\n",
              "      <th></th>\n",
              "      <th>Timestamps_close</th>\n",
              "      <th>Close</th>\n",
              "      <th>Timestamps_average</th>\n",
              "      <th>Average</th>\n",
              "    </tr>\n",
              "  </thead>\n",
              "  <tbody>\n",
              "    <tr>\n",
              "      <th>0</th>\n",
              "      <td>2020/04/08</td>\n",
              "      <td>4134618</td>\n",
              "      <td>2020/04/08</td>\n",
              "      <td>4522980</td>\n",
              "    </tr>\n",
              "    <tr>\n",
              "      <th>1</th>\n",
              "      <td>2020/04/09</td>\n",
              "      <td>4009639</td>\n",
              "      <td>2020/04/09</td>\n",
              "      <td>4501601</td>\n",
              "    </tr>\n",
              "    <tr>\n",
              "      <th>2</th>\n",
              "      <td>2020/04/10</td>\n",
              "      <td>3903868</td>\n",
              "      <td>2020/04/10</td>\n",
              "      <td>4473252</td>\n",
              "    </tr>\n",
              "    <tr>\n",
              "      <th>3</th>\n",
              "      <td>2020/04/11</td>\n",
              "      <td>3853462</td>\n",
              "      <td>2020/04/11</td>\n",
              "      <td>4442300</td>\n",
              "    </tr>\n",
              "    <tr>\n",
              "      <th>4</th>\n",
              "      <td>2020/04/12</td>\n",
              "      <td>3941327</td>\n",
              "      <td>2020/04/12</td>\n",
              "      <td>4415261</td>\n",
              "    </tr>\n",
              "  </tbody>\n",
              "</table>\n",
              "</div>"
            ],
            "text/plain": [
              "  Timestamps_close    Close Timestamps_average  Average\n",
              "0       2020/04/08  4134618         2020/04/08  4522980\n",
              "1       2020/04/09  4009639         2020/04/09  4501601\n",
              "2       2020/04/10  3903868         2020/04/10  4473252\n",
              "3       2020/04/11  3853462         2020/04/11  4442300\n",
              "4       2020/04/12  3941327         2020/04/12  4415261"
            ]
          },
          "metadata": {
            "tags": []
          },
          "execution_count": 2
        }
      ]
    },
    {
      "cell_type": "code",
      "metadata": {
        "id": "uLaMwBKOnm4h",
        "outputId": "a143c624-306b-4842-92e2-451a9b5e33b2",
        "colab": {
          "base_uri": "https://localhost:8080/",
          "height": 34
        }
      },
      "source": [
        "bond_data.shape"
      ],
      "execution_count": 3,
      "outputs": [
        {
          "output_type": "execute_result",
          "data": {
            "text/plain": [
              "(200, 4)"
            ]
          },
          "metadata": {
            "tags": []
          },
          "execution_count": 3
        }
      ]
    },
    {
      "cell_type": "markdown",
      "metadata": {
        "id": "uJEKjbXVpLGN"
      },
      "source": [
        "*Number of samples per set*  \n",
        "170 - train    \n",
        "20 - valid  \n",
        "10 - test  \n",
        "\n",
        "**So the task will be to predict bond price for the next 10 days given 170 training samples and 20 validation samples**"
      ]
    },
    {
      "cell_type": "code",
      "metadata": {
        "id": "vHEJtYRppjEA"
      },
      "source": [
        "all_data = bond_data[\"Close\"].values.astype(float)"
      ],
      "execution_count": 4,
      "outputs": []
    },
    {
      "cell_type": "code",
      "metadata": {
        "id": "Tdyp_IqBtE2o"
      },
      "source": [
        "training_data = all_data[:170]\n",
        "validation_data = all_data[171:191]\n",
        "test_data = all_data[-10:]\n",
        "\n",
        "assert (len(training_data)+len(validation_data)+len(test_data))==all_data.shape[0]"
      ],
      "execution_count": 5,
      "outputs": []
    },
    {
      "cell_type": "code",
      "metadata": {
        "id": "EKazao8Iup8B"
      },
      "source": [
        "#normalize the data sets\n",
        "from sklearn.preprocessing import MinMaxScaler\n",
        "\n",
        "scaler = MinMaxScaler(feature_range=(-1, 1))\n",
        "training_data_norm = scaler.fit_transform(training_data.reshape(-1, 1))"
      ],
      "execution_count": 6,
      "outputs": []
    },
    {
      "cell_type": "code",
      "metadata": {
        "id": "zVPxcr3pu_e2",
        "outputId": "bbd9d7bb-2aa4-43c4-90b9-1e4b068da29a",
        "colab": {
          "base_uri": "https://localhost:8080/",
          "height": 170
        }
      },
      "source": [
        "training_data_norm[:5], training_data_norm[-5:]"
      ],
      "execution_count": 7,
      "outputs": [
        {
          "output_type": "execute_result",
          "data": {
            "text/plain": [
              "(array([[-0.21257071],\n",
              "        [-0.34051259],\n",
              "        [-0.4487911 ],\n",
              "        [-0.50039208],\n",
              "        [-0.41044406]]), array([[0.81887142],\n",
              "        [0.81664793],\n",
              "        [0.88317558],\n",
              "        [0.93785894],\n",
              "        [0.92705166]]))"
            ]
          },
          "metadata": {
            "tags": []
          },
          "execution_count": 7
        }
      ]
    },
    {
      "cell_type": "code",
      "metadata": {
        "id": "HIPwlSAlvGTL"
      },
      "source": [
        "training_data_norm = torch.FloatTensor(training_data_norm).view(-1)"
      ],
      "execution_count": 8,
      "outputs": []
    },
    {
      "cell_type": "code",
      "metadata": {
        "id": "Vqa321xFvoLG"
      },
      "source": [
        "#sequence length\n",
        "train_window = 10\n",
        "\n",
        "def create_inout_sequences(input_data, tw):\n",
        "    #tw day sequence formed from interval slices of input_data\n",
        "    inout_seq = []\n",
        "    for i in range(len(input_data)-tw):\n",
        "        #tw sequence\n",
        "        train_seq = input_data[i:i+tw]\n",
        "        #corresponding label (predicted price)\n",
        "        train_label = input_data[i+tw:i+tw+1]\n",
        "        inout_seq.append((train_seq, train_label))\n",
        "\n",
        "    return inout_seq\n",
        "\n",
        "train_inout_seq = create_inout_sequences(training_data_norm, train_window)"
      ],
      "execution_count": 9,
      "outputs": []
    },
    {
      "cell_type": "code",
      "metadata": {
        "id": "TbysseIdwjWw",
        "outputId": "4ef0cf89-3139-4159-8f73-657e8e27c669",
        "colab": {
          "base_uri": "https://localhost:8080/",
          "height": 34
        }
      },
      "source": [
        "len(train_inout_seq)"
      ],
      "execution_count": 10,
      "outputs": [
        {
          "output_type": "execute_result",
          "data": {
            "text/plain": [
              "160"
            ]
          },
          "metadata": {
            "tags": []
          },
          "execution_count": 10
        }
      ]
    },
    {
      "cell_type": "code",
      "metadata": {
        "id": "doVKNLg-wmFg"
      },
      "source": [
        "class LSTM(nn.Module):\n",
        "\n",
        "    def __init__(self, input_size=1, hidden_layer_size=100, output_size=1):\n",
        "        super().__init__()\n",
        "        self.hidden_layer_size = hidden_layer_size\n",
        "        self.lstm = nn.LSTM(input_size, hidden_layer_size, dropout=0.2)\n",
        "        self.linear = nn.Linear(hidden_layer_size, output_size)\n",
        "        self.hidden_cell = (torch.zeros(1, 1, self.hidden_layer_size),\n",
        "                            torch.zeros(1, 1, self.hidden_layer_size))\n",
        "        return \n",
        "\n",
        "    def forward(self, input_seq):\n",
        "        lstm_out, self.hidden_cell = self.lstm(input_seq.view(len(input_seq), 1, -1), self.hidden_cell)\n",
        "        predictions = self.linear(lstm_out.view(len(input_seq), -1))\n",
        "        return predictions[-1]"
      ],
      "execution_count": 11,
      "outputs": []
    },
    {
      "cell_type": "code",
      "metadata": {
        "id": "rsC6EkUMy7rd",
        "outputId": "8700cdd4-dafc-48c8-d5c8-f2398abd70eb",
        "colab": {
          "base_uri": "https://localhost:8080/",
          "height": 71
        }
      },
      "source": [
        "model = LSTM()\n",
        "loss_function = nn.MSELoss()\n",
        "optimizer = torch.optim.Adam(model.parameters(), lr=0.001)"
      ],
      "execution_count": 12,
      "outputs": [
        {
          "output_type": "stream",
          "text": [
            "/usr/local/lib/python3.6/dist-packages/torch/nn/modules/rnn.py:60: UserWarning: dropout option adds dropout after all but last recurrent layer, so non-zero dropout expects num_layers greater than 1, but got dropout=0.2 and num_layers=1\n",
            "  \"num_layers={}\".format(dropout, num_layers))\n"
          ],
          "name": "stderr"
        }
      ]
    },
    {
      "cell_type": "code",
      "metadata": {
        "id": "WqHEsMUYzDfm",
        "outputId": "06dbcb21-b91a-45ea-938d-966c67fb60df",
        "colab": {
          "base_uri": "https://localhost:8080/",
          "height": 85
        }
      },
      "source": [
        "print(model)"
      ],
      "execution_count": 13,
      "outputs": [
        {
          "output_type": "stream",
          "text": [
            "LSTM(\n",
            "  (lstm): LSTM(1, 100, dropout=0.2)\n",
            "  (linear): Linear(in_features=100, out_features=1, bias=True)\n",
            ")\n"
          ],
          "name": "stdout"
        }
      ]
    },
    {
      "cell_type": "code",
      "metadata": {
        "id": "mCNLhCN-zE-k",
        "outputId": "b4256e62-2b64-47d1-87a4-8556921c3de0",
        "colab": {
          "base_uri": "https://localhost:8080/",
          "height": 136
        }
      },
      "source": [
        "epochs = 150\n",
        "\n",
        "for i in range(epochs):\n",
        "    for seq, labels in train_inout_seq:\n",
        "        optimizer.zero_grad()\n",
        "        model.hidden_cell = (torch.zeros(1, 1, model.hidden_layer_size),\n",
        "                        torch.zeros(1, 1, model.hidden_layer_size))\n",
        "\n",
        "        y_pred = model(seq)\n",
        "\n",
        "        single_loss = loss_function(y_pred, labels)\n",
        "        single_loss.backward()\n",
        "        optimizer.step()\n",
        "\n",
        "    if i%25 == 1:\n",
        "        print(f'epoch: {i:3} loss: {single_loss.item():10.8f}')\n",
        "\n",
        "print(f'epoch: {i:3} loss: {single_loss.item():10.10f}')"
      ],
      "execution_count": 14,
      "outputs": [
        {
          "output_type": "stream",
          "text": [
            "epoch:   1 loss: 0.00529697\n",
            "epoch:  26 loss: 0.00157086\n",
            "epoch:  51 loss: 0.00049570\n",
            "epoch:  76 loss: 0.00014182\n",
            "epoch: 101 loss: 0.00000076\n",
            "epoch: 126 loss: 0.00073781\n",
            "epoch: 149 loss: 0.0021896614\n"
          ],
          "name": "stdout"
        }
      ]
    },
    {
      "cell_type": "code",
      "metadata": {
        "id": "DIvsGqHBzvx1"
      },
      "source": [
        "fut_pred = 20\n",
        "\n",
        "valid_inputs = training_data_norm[-train_window:].tolist()"
      ],
      "execution_count": 15,
      "outputs": []
    },
    {
      "cell_type": "code",
      "metadata": {
        "id": "RExXvbcc2Dy5",
        "outputId": "6be22653-0261-4a72-d6ad-7fecd313ef57",
        "colab": {
          "base_uri": "https://localhost:8080/",
          "height": 187
        }
      },
      "source": [
        "model.eval()\n",
        "\n",
        "for i in range(fut_pred):\n",
        "    seq = torch.FloatTensor(valid_inputs[-train_window:])\n",
        "    with torch.no_grad():\n",
        "        model.hidden = (torch.zeros(1, 1, model.hidden_layer_size),\n",
        "                        torch.zeros(1, 1, model.hidden_layer_size))\n",
        "        valid_inputs.append(model(seq).item())\n",
        "\n",
        "valid_inputs[fut_pred:]"
      ],
      "execution_count": 16,
      "outputs": [
        {
          "output_type": "execute_result",
          "data": {
            "text/plain": [
              "[0.7646702527999878,\n",
              " 0.8301587700843811,\n",
              " 0.914225697517395,\n",
              " 0.9585343599319458,\n",
              " 0.944609522819519,\n",
              " 0.8722425699234009,\n",
              " 0.7833842039108276,\n",
              " 0.74263596534729,\n",
              " 0.7866232991218567,\n",
              " 0.8834882378578186]"
            ]
          },
          "metadata": {
            "tags": []
          },
          "execution_count": 16
        }
      ]
    },
    {
      "cell_type": "code",
      "metadata": {
        "id": "JwAF6M_x2c-D",
        "outputId": "0c6d2465-d641-4b24-fb7b-210f954bc78f",
        "colab": {
          "base_uri": "https://localhost:8080/",
          "height": 357
        }
      },
      "source": [
        "actual_predictions = scaler.inverse_transform(np.array(valid_inputs[train_window:]).reshape(-1, 1))\n",
        "print(actual_predictions)"
      ],
      "execution_count": 17,
      "outputs": [
        {
          "output_type": "stream",
          "text": [
            "[[5210532.91757727]\n",
            " [5147587.53636932]\n",
            " [5103525.23386002]\n",
            " [5121746.01091397]\n",
            " [5190971.52554584]\n",
            " [5251469.85501552]\n",
            " [5268532.14276624]\n",
            " [5234945.79288268]\n",
            " [5161327.54439735]\n",
            " [5095545.70719624]\n",
            " [5089228.01908565]\n",
            " [5153199.95328677]\n",
            " [5235320.05881429]\n",
            " [5278602.62122464]\n",
            " [5265000.25549006]\n",
            " [5194309.17648911]\n",
            " [5107508.59251666]\n",
            " [5067704.00166178]\n",
            " [5110672.67676079]\n",
            " [5205294.41724551]]\n"
          ],
          "name": "stdout"
        }
      ]
    },
    {
      "cell_type": "code",
      "metadata": {
        "id": "kqUeoFPa2n9n",
        "outputId": "0c298fee-f62e-48c8-b5cd-ff94757330d9",
        "colab": {
          "base_uri": "https://localhost:8080/",
          "height": 51
        }
      },
      "source": [
        "x = np.arange(171, 191, 1)\n",
        "print(x)"
      ],
      "execution_count": 18,
      "outputs": [
        {
          "output_type": "stream",
          "text": [
            "[171 172 173 174 175 176 177 178 179 180 181 182 183 184 185 186 187 188\n",
            " 189 190]\n"
          ],
          "name": "stdout"
        }
      ]
    },
    {
      "cell_type": "code",
      "metadata": {
        "id": "tnxtqIMr2xKl",
        "outputId": "21edf6e4-c9a9-425e-bb09-d72690b8c31f",
        "colab": {
          "base_uri": "https://localhost:8080/",
          "height": 716
        }
      },
      "source": [
        "plt.title(\"Bond Price\")\n",
        "plt.ylabel(\"Time (Days Since Start)\")\n",
        "plt.grid(True)\n",
        "plt.autoscale(axis='x', tight=True)\n",
        "plt.plot(all_data[:-10])\n",
        "plt.plot(x, actual_predictions)\n",
        "plt.show()"
      ],
      "execution_count": 33,
      "outputs": [
        {
          "output_type": "display_data",
          "data": {
            "image/png": "[encoded data removed]",
            "text/plain": [
              "<Figure size 1152x864 with 1 Axes>"
            ]
          },
          "metadata": {
            "tags": [],
            "needs_background": "light"
          }
        }
      ]
    },
    {
      "cell_type": "code",
      "metadata": {
        "id": "xI8qb9vQ3LCf"
      },
      "source": [
        ""
      ],
      "execution_count": 19,
      "outputs": []
    }
  ]
}