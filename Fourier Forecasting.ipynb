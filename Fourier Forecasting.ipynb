{
 "cells": [
  {
   "cell_type": "markdown",
   "metadata": {},
   "source": [
    "# Using Fourier to Forecast Time Series #\n",
    "\n",
    "I got this idea several years ago from [Danny Yuan's presentation](https://youtu.be/VYpAodcdFfA).\n",
    "\n",
    "During my initial EDA on Red Chinchompas, I noted that each month the price signal looked sinusoidal. I was then reminded of Danny Yuan's case for using a Fourier transform on time series data. The Fourier transform algorithm is computationally cheap, so a potential large payout for the forecast is present. At the very least, I can use the Fourier predictions as a benchmark for measuring performance of other models.\n",
    "\n",
    "*Note*: It might also be possible to use the Fourier coefficients as a summary feature for a deep learning model\n",
    "\n",
    "Forecasting with Fourier transformed data works well when the signal is periodic. My initial EDA **did not** include tests/measurements for periodicity. I will include some here.\n",
    "\n",
    "For the purposes of this analysis, I have (somewhat arbitrarily) chosen to use the data *currently available* (that is, the data collected and saved at the time of running the cell) for a list of **invested items**. These time series will be used to train, validate, and test models going forward. As a result, other price data I have saved throughout this project will be used for backtesting. "
   ]
  },
  {
   "cell_type": "code",
   "execution_count": 1,
   "metadata": {},
   "outputs": [],
   "source": [
    "from tradeable_item import TradeableItem\n",
    "import pandas as pd\n",
    "import numpy as np"
   ]
  },
  {
   "cell_type": "code",
   "execution_count": 2,
   "metadata": {},
   "outputs": [],
   "source": [
    "#items frequently traded on my account\n",
    "invested_items = [\"Dragon Bones\", \"Black Dragonhide\", \"Red Chinchompa\", \"Black Chinchompa\", \"Magic Logs\", \"Yew Longbow\"]\n",
    "\n",
    "for item in invested_items:\n",
    "    i = TradeableItem(item)"
   ]
  },
  {
   "cell_type": "code",
   "execution_count": 3,
   "metadata": {},
   "outputs": [],
   "source": [
    "bond = TradeableItem(\"old school bond\")"
   ]
  },
  {
   "cell_type": "code",
   "execution_count": 4,
   "metadata": {},
   "outputs": [],
   "source": [
    "bond.save_table_to_file()"
   ]
  },
  {
   "cell_type": "code",
   "execution_count": 5,
   "metadata": {},
   "outputs": [
    {
     "data": {
      "text/html": [
       "<div>\n",
       "<style scoped>\n",
       "    .dataframe tbody tr th:only-of-type {\n",
       "        vertical-align: middle;\n",
       "    }\n",
       "\n",
       "    .dataframe tbody tr th {\n",
       "        vertical-align: top;\n",
       "    }\n",
       "\n",
       "    .dataframe thead th {\n",
       "        text-align: right;\n",
       "    }\n",
       "</style>\n",
       "<table border=\"1\" class=\"dataframe\">\n",
       "  <thead>\n",
       "    <tr style=\"text-align: right;\">\n",
       "      <th></th>\n",
       "      <th>Close</th>\n",
       "      <th>Average</th>\n",
       "    </tr>\n",
       "  </thead>\n",
       "  <tbody>\n",
       "    <tr>\n",
       "      <th>count</th>\n",
       "      <td>1.800000e+02</td>\n",
       "      <td>1.800000e+02</td>\n",
       "    </tr>\n",
       "    <tr>\n",
       "      <th>mean</th>\n",
       "      <td>4.292087e+06</td>\n",
       "      <td>4.226485e+06</td>\n",
       "    </tr>\n",
       "    <tr>\n",
       "      <th>std</th>\n",
       "      <td>5.765387e+05</td>\n",
       "      <td>4.828611e+05</td>\n",
       "    </tr>\n",
       "    <tr>\n",
       "      <th>min</th>\n",
       "      <td>3.365424e+06</td>\n",
       "      <td>3.567594e+06</td>\n",
       "    </tr>\n",
       "    <tr>\n",
       "      <th>25%</th>\n",
       "      <td>3.771621e+06</td>\n",
       "      <td>3.777721e+06</td>\n",
       "    </tr>\n",
       "    <tr>\n",
       "      <th>50%</th>\n",
       "      <td>4.192013e+06</td>\n",
       "      <td>4.170073e+06</td>\n",
       "    </tr>\n",
       "    <tr>\n",
       "      <th>75%</th>\n",
       "      <td>4.802306e+06</td>\n",
       "      <td>4.596981e+06</td>\n",
       "    </tr>\n",
       "    <tr>\n",
       "      <th>max</th>\n",
       "      <td>5.385340e+06</td>\n",
       "      <td>5.157203e+06</td>\n",
       "    </tr>\n",
       "  </tbody>\n",
       "</table>\n",
       "</div>"
      ],
      "text/plain": [
       "              Close       Average\n",
       "count  1.800000e+02  1.800000e+02\n",
       "mean   4.292087e+06  4.226485e+06\n",
       "std    5.765387e+05  4.828611e+05\n",
       "min    3.365424e+06  3.567594e+06\n",
       "25%    3.771621e+06  3.777721e+06\n",
       "50%    4.192013e+06  4.170073e+06\n",
       "75%    4.802306e+06  4.596981e+06\n",
       "max    5.385340e+06  5.157203e+06"
      ]
     },
     "execution_count": 5,
     "metadata": {},
     "output_type": "execute_result"
    }
   ],
   "source": [
    "bond.table.describe()"
   ]
  },
  {
   "cell_type": "code",
   "execution_count": null,
   "metadata": {},
   "outputs": [],
   "source": []
  },
  {
   "cell_type": "code",
   "execution_count": null,
   "metadata": {},
   "outputs": [],
   "source": []
  }
 ],
 "metadata": {
  "kernelspec": {
   "display_name": "Python 3",
   "language": "python",
   "name": "python3"
  },
  "language_info": {
   "codemirror_mode": {
    "name": "ipython",
    "version": 3
   },
   "file_extension": ".py",
   "mimetype": "text/x-python",
   "name": "python",
   "nbconvert_exporter": "python",
   "pygments_lexer": "ipython3",
   "version": "3.6.4"
  }
 },
 "nbformat": 4,
 "nbformat_minor": 2
}
