{
 "cells": [
  {
   "cell_type": "markdown",
   "metadata": {},
   "source": [
    "# Using Fourier to Forecast Time Series #\n",
    "\n",
    "I got this idea several years ago from [Danny Yuan's presentation](https://youtu.be/VYpAodcdFfA).\n",
    "\n",
    "During my initial EDA on Red Chinchompas, I noted that each month the price signal looked sinusoidal. I was then reminded of Danny Yuan's case for using a Fourier transform on time series data. The Fourier transform algorithm is computationally cheap, so a potential large payout for the forecast is present. At the very least, I can use the Fourier predictions as a benchmark for measuring performance of other models.\n",
    "\n",
    "*Note*: It might also be possible to use the Fourier coefficients as a summary feature for a deep learning model\n",
    "\n",
    "Forecasting with Fourier transformed data works well when the signal is periodic. My initial EDA **did not** include tests/measurements for periodicity. I will include some here.\n",
    "\n",
    "For the purposes of this analysis, I have (somewhat arbitrarily) chosen to use the data *currently available* (that is, the data collected and saved at the time of running the cell) for a list of **invested items**. These time series will be used to train, validate, and test models going forward. As a result, other price data I have saved throughout this project will be used for backtesting.\n",
    "\n",
    "## Invested Items ##\n",
    "- Old school bond\n",
    "- Dragon Bones\n",
    "- Black Dragonhide\n",
    "- Red Chinchompa \n",
    "- Black Chinchompa\n",
    "- Magic Logs \n",
    "- Yew Longbow"
   ]
  },
  {
   "cell_type": "code",
   "execution_count": 1,
   "metadata": {},
   "outputs": [],
   "source": [
    "from tradeable_item import TradeableItem\n",
    "import pandas as pd\n",
    "import numpy as np"
   ]
  },
  {
   "cell_type": "code",
   "execution_count": null,
   "metadata": {},
   "outputs": [],
   "source": []
  }
 ],
 "metadata": {
  "kernelspec": {
   "display_name": "Python 3",
   "language": "python",
   "name": "python3"
  },
  "language_info": {
   "codemirror_mode": {
    "name": "ipython",
    "version": 3
   },
   "file_extension": ".py",
   "mimetype": "text/x-python",
   "name": "python",
   "nbconvert_exporter": "python",
   "pygments_lexer": "ipython3",
   "version": "3.6.4"
  }
 },
 "nbformat": 4,
 "nbformat_minor": 2
}
